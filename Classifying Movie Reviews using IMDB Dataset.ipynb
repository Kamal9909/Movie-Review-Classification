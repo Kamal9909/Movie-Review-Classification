{
 "cells": [
  {
   "cell_type": "raw",
   "metadata": {},
   "source": [
    "import pandas as pd\n",
    "data = pd.DataFrame(train_data)\n",
    "data.head()"
   ]
  },
  {
   "cell_type": "raw",
   "metadata": {},
   "source": [
    "for i in range(0,10000):\n",
    "    if(train_data[1][i]!=train_data[2][i]):\n",
    "        print('i',i,'=',train_data[1][i],'=',train_data[2][i])#,'//',train_data[1][i],'=',train_data_1[1][i])"
   ]
  },
  {
   "cell_type": "code",
   "execution_count": 1,
   "metadata": {},
   "outputs": [],
   "source": [
    "import numpy as np\n",
    "#np.load.__defaults__=(None, False, True, 'ASCII')"
   ]
  },
  {
   "cell_type": "code",
   "execution_count": 2,
   "metadata": {},
   "outputs": [
    {
     "name": "stderr",
     "output_type": "stream",
     "text": [
      "Using TensorFlow backend.\n",
      "F:\\ANACONDA\\lib\\site-packages\\tensorflow\\python\\framework\\dtypes.py:523: FutureWarning: Passing (type, 1) or '1type' as a synonym of type is deprecated; in a future version of numpy, it will be understood as (type, (1,)) / '(1,)type'.\n",
      "  _np_qint8 = np.dtype([(\"qint8\", np.int8, 1)])\n",
      "F:\\ANACONDA\\lib\\site-packages\\tensorflow\\python\\framework\\dtypes.py:524: FutureWarning: Passing (type, 1) or '1type' as a synonym of type is deprecated; in a future version of numpy, it will be understood as (type, (1,)) / '(1,)type'.\n",
      "  _np_quint8 = np.dtype([(\"quint8\", np.uint8, 1)])\n",
      "F:\\ANACONDA\\lib\\site-packages\\tensorflow\\python\\framework\\dtypes.py:525: FutureWarning: Passing (type, 1) or '1type' as a synonym of type is deprecated; in a future version of numpy, it will be understood as (type, (1,)) / '(1,)type'.\n",
      "  _np_qint16 = np.dtype([(\"qint16\", np.int16, 1)])\n",
      "F:\\ANACONDA\\lib\\site-packages\\tensorflow\\python\\framework\\dtypes.py:526: FutureWarning: Passing (type, 1) or '1type' as a synonym of type is deprecated; in a future version of numpy, it will be understood as (type, (1,)) / '(1,)type'.\n",
      "  _np_quint16 = np.dtype([(\"quint16\", np.uint16, 1)])\n",
      "F:\\ANACONDA\\lib\\site-packages\\tensorflow\\python\\framework\\dtypes.py:527: FutureWarning: Passing (type, 1) or '1type' as a synonym of type is deprecated; in a future version of numpy, it will be understood as (type, (1,)) / '(1,)type'.\n",
      "  _np_qint32 = np.dtype([(\"qint32\", np.int32, 1)])\n",
      "F:\\ANACONDA\\lib\\site-packages\\tensorflow\\python\\framework\\dtypes.py:532: FutureWarning: Passing (type, 1) or '1type' as a synonym of type is deprecated; in a future version of numpy, it will be understood as (type, (1,)) / '(1,)type'.\n",
      "  np_resource = np.dtype([(\"resource\", np.ubyte, 1)])\n",
      "F:\\ANACONDA\\lib\\site-packages\\keras\\datasets\\imdb.py:108: VisibleDeprecationWarning: Creating an ndarray from ragged nested sequences (which is a list-or-tuple of lists-or-tuples-or ndarrays with different lengths or shapes) is deprecated. If you meant to do this, you must specify 'dtype=object' when creating the ndarray\n",
      "  x_train = np.array(xs[:len(x_train)])\n",
      "F:\\ANACONDA\\lib\\site-packages\\keras\\datasets\\imdb.py:111: VisibleDeprecationWarning: Creating an ndarray from ragged nested sequences (which is a list-or-tuple of lists-or-tuples-or ndarrays with different lengths or shapes) is deprecated. If you meant to do this, you must specify 'dtype=object' when creating the ndarray\n",
      "  x_test = np.array(xs[len(x_train):])\n"
     ]
    }
   ],
   "source": [
    "from keras.datasets import imdb\n",
    "(train_data,train_label),(test_data,test_label) = imdb.load_data(num_words=10000)"
   ]
  },
  {
   "cell_type": "code",
   "execution_count": 3,
   "metadata": {},
   "outputs": [],
   "source": [
    "train_data_1 = train_data\n",
    "train_label_1 = train_label\n",
    "test_data_1 = test_data\n",
    "test_label_1= test_label"
   ]
  },
  {
   "cell_type": "code",
   "execution_count": 4,
   "metadata": {},
   "outputs": [
    {
     "data": {
      "text/plain": [
       "(25000,)"
      ]
     },
     "execution_count": 4,
     "metadata": {},
     "output_type": "execute_result"
    }
   ],
   "source": [
    "(train_data_1).shape"
   ]
  },
  {
   "cell_type": "code",
   "execution_count": 5,
   "metadata": {},
   "outputs": [],
   "source": [
    "def one_hot_encoding(sequence,dimensions=10000):\n",
    "    b = np.zeros((len(sequence),dimensions))\n",
    "    for k, l in enumerate(sequence):\n",
    "        b[k, l] = 1.\n",
    "        #for i in range(dimensions):\n",
    "         #   b[k,int(l[i])] = 1.\n",
    "            #print(k,int(l[i]))\n",
    "    return b"
   ]
  },
  {
   "cell_type": "code",
   "execution_count": 7,
   "metadata": {},
   "outputs": [],
   "source": [
    "train_data = one_hot_encoding(train_data)\n",
    "test_data = one_hot_encoding(test_data)"
   ]
  },
  {
   "cell_type": "code",
   "execution_count": 8,
   "metadata": {},
   "outputs": [],
   "source": [
    "train_label = np.asarray(train_label).astype('float32')\n",
    "test_label = np.asarray(test_label).astype('float32')"
   ]
  },
  {
   "cell_type": "markdown",
   "metadata": {},
   "source": [
    "## Creating validation set"
   ]
  },
  {
   "cell_type": "code",
   "execution_count": 13,
   "metadata": {},
   "outputs": [],
   "source": [
    "training_set = train_data[10000:]\n",
    "validation_set = train_data[:10000]\n",
    "training_label_set = train_label[10000:]\n",
    "validation_label_set = train_label[:10000]"
   ]
  },
  {
   "cell_type": "markdown",
   "metadata": {},
   "source": [
    "## Till now data is ready for feeding the nerwork"
   ]
  },
  {
   "cell_type": "code",
   "execution_count": 53,
   "metadata": {},
   "outputs": [],
   "source": [
    "from keras import layers\n",
    "from keras import models"
   ]
  },
  {
   "cell_type": "code",
   "execution_count": 54,
   "metadata": {},
   "outputs": [],
   "source": [
    "network = models.Sequential()\n",
    "network.add(layers.Dense(16,activation='relu',input_shape=(10000,)))\n",
    "network.add(layers.Dense(16,activation='relu'))\n",
    "network.add(layers.Dense(1,activation='sigmoid'))"
   ]
  },
  {
   "cell_type": "code",
   "execution_count": 55,
   "metadata": {},
   "outputs": [],
   "source": [
    "from keras import optimizers\n",
    "from keras import losses\n",
    "from keras import metrics\n",
    "network.compile(optimizer=optimizers.RMSprop(lr=0.001),loss=losses.binary_crossentropy,metrics=[metrics.binary_accuracy])"
   ]
  },
  {
   "cell_type": "code",
   "execution_count": 56,
   "metadata": {
    "scrolled": true
   },
   "outputs": [
    {
     "name": "stdout",
     "output_type": "stream",
     "text": [
      "Train on 15000 samples, validate on 10000 samples\n",
      "Epoch 1/20\n",
      "15000/15000 [==============================] - 5s - loss: 0.4999 - binary_accuracy: 0.7928 - val_loss: 0.3786 - val_binary_accuracy: 0.8610\n",
      "Epoch 2/20\n",
      "15000/15000 [==============================] - 4s - loss: 0.3001 - binary_accuracy: 0.9033 - val_loss: 0.3014 - val_binary_accuracy: 0.8882\n",
      "Epoch 3/20\n",
      "15000/15000 [==============================] - 4s - loss: 0.2213 - binary_accuracy: 0.9293 - val_loss: 0.2975 - val_binary_accuracy: 0.8793\n",
      "Epoch 4/20\n",
      "15000/15000 [==============================] - 4s - loss: 0.1754 - binary_accuracy: 0.9445 - val_loss: 0.2740 - val_binary_accuracy: 0.8911\n",
      "Epoch 5/20\n",
      "15000/15000 [==============================] - 4s - loss: 0.1432 - binary_accuracy: 0.9547 - val_loss: 0.2815 - val_binary_accuracy: 0.8881\n",
      "Epoch 6/20\n",
      "15000/15000 [==============================] - 4s - loss: 0.1180 - binary_accuracy: 0.9635 - val_loss: 0.2952 - val_binary_accuracy: 0.8861\n",
      "Epoch 7/20\n",
      "15000/15000 [==============================] - 4s - loss: 0.0963 - binary_accuracy: 0.9720 - val_loss: 0.3077 - val_binary_accuracy: 0.8822\n",
      "Epoch 8/20\n",
      "15000/15000 [==============================] - 4s - loss: 0.0812 - binary_accuracy: 0.9775 - val_loss: 0.3322 - val_binary_accuracy: 0.8802\n",
      "Epoch 9/20\n",
      "15000/15000 [==============================] - 4s - loss: 0.0640 - binary_accuracy: 0.9847 - val_loss: 0.3481 - val_binary_accuracy: 0.8795\n",
      "Epoch 10/20\n",
      "15000/15000 [==============================] - 4s - loss: 0.0537 - binary_accuracy: 0.9871 - val_loss: 0.3746 - val_binary_accuracy: 0.8770\n",
      "Epoch 11/20\n",
      "15000/15000 [==============================] - 4s - loss: 0.0415 - binary_accuracy: 0.9917 - val_loss: 0.3996 - val_binary_accuracy: 0.8771\n",
      "Epoch 12/20\n",
      "15000/15000 [==============================] - 4s - loss: 0.0355 - binary_accuracy: 0.9926 - val_loss: 0.4610 - val_binary_accuracy: 0.8649\n",
      "Epoch 13/20\n",
      "15000/15000 [==============================] - 4s - loss: 0.0256 - binary_accuracy: 0.9958 - val_loss: 0.4598 - val_binary_accuracy: 0.8723\n",
      "Epoch 14/20\n",
      "15000/15000 [==============================] - 4s - loss: 0.0225 - binary_accuracy: 0.9959 - val_loss: 0.4872 - val_binary_accuracy: 0.8715\n",
      "Epoch 15/20\n",
      "15000/15000 [==============================] - 4s - loss: 0.0157 - binary_accuracy: 0.9983 - val_loss: 0.5123 - val_binary_accuracy: 0.8734\n",
      "Epoch 16/20\n",
      "15000/15000 [==============================] - 4s - loss: 0.0142 - binary_accuracy: 0.9978 - val_loss: 0.5518 - val_binary_accuracy: 0.8724\n",
      "Epoch 17/20\n",
      "15000/15000 [==============================] - 4s - loss: 0.0076 - binary_accuracy: 0.9997 - val_loss: 0.5746 - val_binary_accuracy: 0.8715\n",
      "Epoch 18/20\n",
      "15000/15000 [==============================] - 4s - loss: 0.0099 - binary_accuracy: 0.9982 - val_loss: 0.6110 - val_binary_accuracy: 0.8697\n",
      "Epoch 19/20\n",
      "15000/15000 [==============================] - 4s - loss: 0.0041 - binary_accuracy: 0.9999 - val_loss: 0.6651 - val_binary_accuracy: 0.8627\n",
      "Epoch 20/20\n",
      "15000/15000 [==============================] - 4s - loss: 0.0081 - binary_accuracy: 0.9982 - val_loss: 0.6726 - val_binary_accuracy: 0.8679\n"
     ]
    }
   ],
   "source": [
    "history= network.fit(training_set,training_label_set,epochs=20,batch_size=512,validation_data=(validation_set,validation_label_set))"
   ]
  },
  {
   "cell_type": "code",
   "execution_count": 57,
   "metadata": {},
   "outputs": [],
   "source": [
    "#from keras.callbacks import History\n",
    "history_dict = history.history"
   ]
  },
  {
   "cell_type": "code",
   "execution_count": 58,
   "metadata": {},
   "outputs": [
    {
     "data": {
      "text/plain": [
       "dict_keys(['val_loss', 'val_binary_accuracy', 'loss', 'binary_accuracy'])"
      ]
     },
     "execution_count": 58,
     "metadata": {},
     "output_type": "execute_result"
    }
   ],
   "source": [
    "history_dict.keys()"
   ]
  },
  {
   "cell_type": "code",
   "execution_count": 59,
   "metadata": {},
   "outputs": [],
   "source": [
    "tran_loss = history_dict['loss']\n",
    "tran_acc = history_dict['binary_accuracy']\n",
    "val_loss = history_dict['val_loss']\n",
    "val_acc = history_dict['val_binary_accuracy']"
   ]
  },
  {
   "cell_type": "code",
   "execution_count": 70,
   "metadata": {},
   "outputs": [
    {
     "data": {
      "image/png": "[encoded data removed]",
      "text/plain": [
       "<Figure size 432x288 with 1 Axes>"
      ]
     },
     "metadata": {
      "needs_background": "light"
     },
     "output_type": "display_data"
    }
   ],
   "source": [
    "import matplotlib.pyplot as plt\n",
    "epochs = range(1,len(val_acc)+1)\n",
    "plt.plot(epochs,tran_loss,'ro',label='Training Loss')\n",
    "plt.plot(epochs,val_loss,'b',label='Validation Loss')\n",
    "plt.xlabel('Epochs')\n",
    "plt.ylabel('Loss')\n",
    "plt.legend()\n",
    "plt.title('Training and Validation Loss')\n",
    "plt.show()"
   ]
  },
  {
   "cell_type": "code",
   "execution_count": 69,
   "metadata": {},
   "outputs": [
    {
     "data": {
      "image/png": "[encoded data removed]",
      "text/plain": [
       "<Figure size 432x288 with 1 Axes>"
      ]
     },
     "metadata": {
      "needs_background": "light"
     },
     "output_type": "display_data"
    }
   ],
   "source": [
    "plt.plot(epochs,tran_acc,'ro',label='Validation Accuracy')\n",
    "plt.plot(epochs,val_acc,'b',label='Validation Loss')\n",
    "plt.xlabel('Epochs')\n",
    "plt.ylabel('Accuracy')\n",
    "plt.legend(loc='upper left')\n",
    "plt.title('Training and Validation Accuracy')\n",
    "plt.show()"
   ]
  },
  {
   "cell_type": "code",
   "execution_count": 71,
   "metadata": {},
   "outputs": [
    {
     "name": "stdout",
     "output_type": "stream",
     "text": [
      "25000/25000 [==============================] - 15s    \n"
     ]
    }
   ],
   "source": [
    "loss, accurcy=network.evaluate(test_data,test_label)"
   ]
  },
  {
   "cell_type": "code",
   "execution_count": 72,
   "metadata": {},
   "outputs": [
    {
     "name": "stdout",
     "output_type": "stream",
     "text": [
      "0.7366489304506779 0.85168\n"
     ]
    }
   ],
   "source": [
    "print(loss,accurcy)"
   ]
  },
  {
   "cell_type": "code",
   "execution_count": 73,
   "metadata": {},
   "outputs": [
    {
     "data": {
      "text/plain": [
       "array([[1.7027177e-06],\n",
       "       [3.7637597e-07],\n",
       "       [1.0000000e+00],\n",
       "       [5.0109197e-06]], dtype=float32)"
      ]
     },
     "execution_count": 73,
     "metadata": {},
     "output_type": "execute_result"
    }
   ],
   "source": [
    "network.predict(validation_set[1:5])"
   ]
  },
  {
   "cell_type": "code",
   "execution_count": null,
   "metadata": {},
   "outputs": [],
   "source": []
  }
 ],
 "metadata": {
  "kernelspec": {
   "display_name": "Python 3",
   "language": "python",
   "name": "python3"
  },
  "language_info": {
   "codemirror_mode": {
    "name": "ipython",
    "version": 3
   },
   "file_extension": ".py",
   "mimetype": "text/x-python",
   "name": "python",
   "nbconvert_exporter": "python",
   "pygments_lexer": "ipython3",
   "version": "3.6.10"
  }
 },
 "nbformat": 4,
 "nbformat_minor": 4
}
